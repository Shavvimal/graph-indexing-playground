{
 "cells": [
  {
   "cell_type": "code",
   "metadata": {
    "ExecuteTime": {
     "end_time": "2024-08-08T16:13:22.821847Z",
     "start_time": "2024-08-08T16:13:22.817534Z"
    }
   },
   "source": [
    "# Copyright (c) 2024 Microsoft Corporation.\n",
    "# Licensed under the MIT License."
   ],
   "outputs": [],
   "execution_count": 1
  },
  {
   "cell_type": "code",
   "metadata": {
    "ExecuteTime": {
     "end_time": "2024-09-02T20:19:28.297263Z",
     "start_time": "2024-09-02T20:19:28.287734Z"
    }
   },
   "source": [
    "import os\n",
    "\n",
    "import pandas as pd\n",
    "import tiktoken\n",
    "\n",
    "from graphrag.query.indexer_adapters import read_indexer_entities, read_indexer_reports\n",
    "from graphrag.query.llm.oai.chat_openai import ChatOpenAI\n",
    "from graphrag.query.llm.oai.typing import OpenaiApiType\n",
    "from graphrag.query.structured_search.global_search.community_context import (\n",
    "    GlobalCommunityContext,\n",
    ")\n",
    "from graphrag.query.structured_search.global_search.search import GlobalSearch\n",
    "\n",
    "from dotenv import load_dotenv\n",
    "_ = load_dotenv()"
   ],
   "outputs": [],
   "execution_count": 2
  },
  {
   "cell_type": "markdown",
   "metadata": {},
   "source": [
    "## Global Search example\n",
    "\n",
    "Global search method generates answers by searching over all AI-generated community reports in a map-reduce fashion. This is a resource-intensive method, but often gives good responses for questions that require an understanding of the dataset as a whole (e.g. What are the most significant values of the herbs mentioned in this notebook?)."
   ]
  },
  {
   "cell_type": "markdown",
   "metadata": {},
   "source": [
    "### LLM setup"
   ]
  },
  {
   "cell_type": "code",
   "metadata": {
    "ExecuteTime": {
     "end_time": "2024-09-02T20:20:11.140768Z",
     "start_time": "2024-09-02T20:20:10.510610Z"
    }
   },
   "source": [
    "api_key = os.environ[\"AZURE_OPENAI_API_KEY\"]\n",
    "llm_model = \"gpt-4o\"\n",
    "\n",
    "llm = ChatOpenAI(\n",
    "    api_key=api_key,\n",
    "    model=llm_model,\n",
    "    api_type=OpenaiApiType.AzureOpenAI,  # OpenaiApiType.OpenAI or OpenaiApiType.AzureOpenAI\n",
    "    max_retries=20,\n",
    "    api_base=\"https://shav.openai.azure.com\",\n",
    "    api_version=\"2023-03-15-preview\"\n",
    ")\n",
    "\n",
    "token_encoder = tiktoken.get_encoding(\"cl100k_base\")"
   ],
   "outputs": [],
   "execution_count": 5
  },
  {
   "cell_type": "markdown",
   "metadata": {},
   "source": [
    "### Load community reports as context for global search\n",
    "\n",
    "- Load all community reports in the `create_final_community_reports` table from the ire-indexing engine, to be used as context data for global search.\n",
    "- Load entities from the `create_final_nodes` and `create_final_entities` tables from the ire-indexing engine, to be used for calculating community weights for context ranking. Note that this is optional (if no entities are provided, we will not calculate community weights and only use the `rank` attribute in the community reports table for context ranking)"
   ]
  },
  {
   "cell_type": "code",
   "metadata": {
    "ExecuteTime": {
     "end_time": "2024-09-02T20:21:51.990680Z",
     "start_time": "2024-09-02T20:21:51.986988Z"
    }
   },
   "source": [
    "# parquet files generated from indexing pipeline\n",
    "INPUT_DIR = \"../bin/output/20240902-205939/artifacts\" \n",
    "COMMUNITY_REPORT_TABLE = \"create_final_community_reports\"\n",
    "ENTITY_TABLE = \"create_final_nodes\"\n",
    "ENTITY_EMBEDDING_TABLE = \"create_final_entities\"\n",
    "\n",
    "# community level in the Leiden community hierarchy from which we will load the community reports\n",
    "# higher value means we use reports from more fine-grained communities (at the cost of higher computation cost)\n",
    "COMMUNITY_LEVEL = 2"
   ],
   "outputs": [],
   "execution_count": 6
  },
  {
   "cell_type": "code",
   "metadata": {
    "ExecuteTime": {
     "end_time": "2024-09-02T20:21:53.576497Z",
     "start_time": "2024-09-02T20:21:52.950435Z"
    }
   },
   "source": [
    "entity_df = pd.read_parquet(f\"{INPUT_DIR}/{ENTITY_TABLE}.parquet\")\n",
    "report_df = pd.read_parquet(f\"{INPUT_DIR}/{COMMUNITY_REPORT_TABLE}.parquet\")\n",
    "entity_embedding_df = pd.read_parquet(f\"{INPUT_DIR}/{ENTITY_EMBEDDING_TABLE}.parquet\")\n",
    "\n",
    "reports = read_indexer_reports(report_df, entity_df, COMMUNITY_LEVEL)\n",
    "entities = read_indexer_entities(entity_df, entity_embedding_df, COMMUNITY_LEVEL)\n",
    "print(f\"Total report count: {len(report_df)}\")\n",
    "print(\n",
    "    f\"Report count after filtering by community level {COMMUNITY_LEVEL}: {len(reports)}\"\n",
    ")\n",
    "report_df.head()"
   ],
   "outputs": [
    {
     "name": "stderr",
     "output_type": "stream",
     "text": [
      "Z:\\code\\007\\graphrag-pipeline\\graphrag\\query\\indexer_adapters.py:71: SettingWithCopyWarning: \n",
      "A value is trying to be set on a copy of a slice from a DataFrame.\n",
      "Try using .loc[row_indexer,col_indexer] = value instead\n",
      "\n",
      "See the caveats in the documentation: https://pandas.pydata.org/pandas-docs/stable/user_guide/indexing.html#returning-a-view-versus-a-copy\n",
      "  entity_df[\"community\"] = entity_df[\"community\"].fillna(-1)\n",
      "Z:\\code\\007\\graphrag-pipeline\\graphrag\\query\\indexer_adapters.py:72: SettingWithCopyWarning: \n",
      "A value is trying to be set on a copy of a slice from a DataFrame.\n",
      "Try using .loc[row_indexer,col_indexer] = value instead\n",
      "\n",
      "See the caveats in the documentation: https://pandas.pydata.org/pandas-docs/stable/user_guide/indexing.html#returning-a-view-versus-a-copy\n",
      "  entity_df[\"community\"] = entity_df[\"community\"].astype(int)\n"
     ]
    },
    {
     "name": "stdout",
     "output_type": "stream",
     "text": [
      "Total report count: 297\n",
      "Report count after filtering by community level 2: 230\n"
     ]
    },
    {
     "data": {
      "text/plain": [
       "  community                                       full_content  level  rank  \\\n",
       "0       293  # MVP and Pre-Seed Investors in Startup Ecosys...      3   9.0   \n",
       "1       294  # Early Adopters and Marketing Strategy in Sta...      3   9.0   \n",
       "2       295  # Pricing Strategy and Competitive Landscape i...      3   9.0   \n",
       "3       296  # Subscription Revenue Model and Recurring Rev...      3   9.0   \n",
       "4       159  # AXE and #PraiseUp Campaign\\n\\nThe community ...      2   8.5   \n",
       "\n",
       "                                               title  \\\n",
       "0   MVP and Pre-Seed Investors in Startup Ecosystems   \n",
       "1  Early Adopters and Marketing Strategy in Start...   \n",
       "2  Pricing Strategy and Competitive Landscape in ...   \n",
       "3   Subscription Revenue Model and Recurring Revenue   \n",
       "4                         AXE and #PraiseUp Campaign   \n",
       "\n",
       "                                    rank_explanation  \\\n",
       "0  The rating is high due to the critical role of...   \n",
       "1  The rating is high due to the significant impa...   \n",
       "2  The rating is high due to the significant impa...   \n",
       "3  The rating is high due to the significant impa...   \n",
       "4  The rating is high due to the significant impa...   \n",
       "\n",
       "                                             summary  \\\n",
       "0  The community revolves around the development ...   \n",
       "1  The community revolves around the critical rol...   \n",
       "2  The community revolves around the critical ele...   \n",
       "3  The community revolves around the Subscription...   \n",
       "4  The community revolves around AXE and its #Pra...   \n",
       "\n",
       "                                            findings  \\\n",
       "0  [{'explanation': 'The Minimum Viable Product (...   \n",
       "1  [{'explanation': 'Early adopters are pivotal i...   \n",
       "2  [{'explanation': 'Pricing strategy is a fundam...   \n",
       "3  [{'explanation': 'The Subscription Revenue Mod...   \n",
       "4  [{'explanation': 'AXE has demonstrated a keen ...   \n",
       "\n",
       "                                   full_content_json  \\\n",
       "0  {\\n    \"title\": \"MVP and Pre-Seed Investors in...   \n",
       "1  {\\n    \"title\": \"Early Adopters and Marketing ...   \n",
       "2  {\\n    \"title\": \"Pricing Strategy and Competit...   \n",
       "3  {\\n    \"title\": \"Subscription Revenue Model an...   \n",
       "4  {\\n    \"title\": \"AXE and #PraiseUp Campaign\",\\...   \n",
       "\n",
       "                                     id  \n",
       "0  219856f2-57e0-4290-b752-b4e9f46cd353  \n",
       "1  9dfe4be6-bb1d-4730-9c7d-b54f0a716c52  \n",
       "2  0bfa1f66-78b1-4e36-b3b9-105ee2fece42  \n",
       "3  a9abac19-f949-43a9-9793-ba267d1a1902  \n",
       "4  ddb037ff-05af-4278-aa04-3ac77d0c50ea  "
      ],
      "text/html": [
       "<div>\n",
       "<style scoped>\n",
       "    .dataframe tbody tr th:only-of-type {\n",
       "        vertical-align: middle;\n",
       "    }\n",
       "\n",
       "    .dataframe tbody tr th {\n",
       "        vertical-align: top;\n",
       "    }\n",
       "\n",
       "    .dataframe thead th {\n",
       "        text-align: right;\n",
       "    }\n",
       "</style>\n",
       "<table border=\"1\" class=\"dataframe\">\n",
       "  <thead>\n",
       "    <tr style=\"text-align: right;\">\n",
       "      <th></th>\n",
       "      <th>community</th>\n",
       "      <th>full_content</th>\n",
       "      <th>level</th>\n",
       "      <th>rank</th>\n",
       "      <th>title</th>\n",
       "      <th>rank_explanation</th>\n",
       "      <th>summary</th>\n",
       "      <th>findings</th>\n",
       "      <th>full_content_json</th>\n",
       "      <th>id</th>\n",
       "    </tr>\n",
       "  </thead>\n",
       "  <tbody>\n",
       "    <tr>\n",
       "      <th>0</th>\n",
       "      <td>293</td>\n",
       "      <td># MVP and Pre-Seed Investors in Startup Ecosys...</td>\n",
       "      <td>3</td>\n",
       "      <td>9.0</td>\n",
       "      <td>MVP and Pre-Seed Investors in Startup Ecosystems</td>\n",
       "      <td>The rating is high due to the critical role of...</td>\n",
       "      <td>The community revolves around the development ...</td>\n",
       "      <td>[{'explanation': 'The Minimum Viable Product (...</td>\n",
       "      <td>{\\n    \"title\": \"MVP and Pre-Seed Investors in...</td>\n",
       "      <td>219856f2-57e0-4290-b752-b4e9f46cd353</td>\n",
       "    </tr>\n",
       "    <tr>\n",
       "      <th>1</th>\n",
       "      <td>294</td>\n",
       "      <td># Early Adopters and Marketing Strategy in Sta...</td>\n",
       "      <td>3</td>\n",
       "      <td>9.0</td>\n",
       "      <td>Early Adopters and Marketing Strategy in Start...</td>\n",
       "      <td>The rating is high due to the significant impa...</td>\n",
       "      <td>The community revolves around the critical rol...</td>\n",
       "      <td>[{'explanation': 'Early adopters are pivotal i...</td>\n",
       "      <td>{\\n    \"title\": \"Early Adopters and Marketing ...</td>\n",
       "      <td>9dfe4be6-bb1d-4730-9c7d-b54f0a716c52</td>\n",
       "    </tr>\n",
       "    <tr>\n",
       "      <th>2</th>\n",
       "      <td>295</td>\n",
       "      <td># Pricing Strategy and Competitive Landscape i...</td>\n",
       "      <td>3</td>\n",
       "      <td>9.0</td>\n",
       "      <td>Pricing Strategy and Competitive Landscape in ...</td>\n",
       "      <td>The rating is high due to the significant impa...</td>\n",
       "      <td>The community revolves around the critical ele...</td>\n",
       "      <td>[{'explanation': 'Pricing strategy is a fundam...</td>\n",
       "      <td>{\\n    \"title\": \"Pricing Strategy and Competit...</td>\n",
       "      <td>0bfa1f66-78b1-4e36-b3b9-105ee2fece42</td>\n",
       "    </tr>\n",
       "    <tr>\n",
       "      <th>3</th>\n",
       "      <td>296</td>\n",
       "      <td># Subscription Revenue Model and Recurring Rev...</td>\n",
       "      <td>3</td>\n",
       "      <td>9.0</td>\n",
       "      <td>Subscription Revenue Model and Recurring Revenue</td>\n",
       "      <td>The rating is high due to the significant impa...</td>\n",
       "      <td>The community revolves around the Subscription...</td>\n",
       "      <td>[{'explanation': 'The Subscription Revenue Mod...</td>\n",
       "      <td>{\\n    \"title\": \"Subscription Revenue Model an...</td>\n",
       "      <td>a9abac19-f949-43a9-9793-ba267d1a1902</td>\n",
       "    </tr>\n",
       "    <tr>\n",
       "      <th>4</th>\n",
       "      <td>159</td>\n",
       "      <td># AXE and #PraiseUp Campaign\\n\\nThe community ...</td>\n",
       "      <td>2</td>\n",
       "      <td>8.5</td>\n",
       "      <td>AXE and #PraiseUp Campaign</td>\n",
       "      <td>The rating is high due to the significant impa...</td>\n",
       "      <td>The community revolves around AXE and its #Pra...</td>\n",
       "      <td>[{'explanation': 'AXE has demonstrated a keen ...</td>\n",
       "      <td>{\\n    \"title\": \"AXE and #PraiseUp Campaign\",\\...</td>\n",
       "      <td>ddb037ff-05af-4278-aa04-3ac77d0c50ea</td>\n",
       "    </tr>\n",
       "  </tbody>\n",
       "</table>\n",
       "</div>"
      ]
     },
     "execution_count": 7,
     "metadata": {},
     "output_type": "execute_result"
    }
   ],
   "execution_count": 7
  },
  {
   "cell_type": "markdown",
   "metadata": {},
   "source": [
    "#### Build global context based on community reports"
   ]
  },
  {
   "cell_type": "code",
   "metadata": {
    "ExecuteTime": {
     "end_time": "2024-09-02T20:22:18.859131Z",
     "start_time": "2024-09-02T20:22:18.856110Z"
    }
   },
   "source": [
    "context_builder = GlobalCommunityContext(\n",
    "    community_reports=reports,\n",
    "    entities=entities,  # default to None if you don't want to use community weights for ranking\n",
    "    token_encoder=token_encoder,\n",
    ")"
   ],
   "outputs": [],
   "execution_count": 8
  },
  {
   "cell_type": "markdown",
   "metadata": {},
   "source": [
    "#### Perform global search"
   ]
  },
  {
   "cell_type": "code",
   "metadata": {
    "ExecuteTime": {
     "end_time": "2024-09-02T20:22:24.549165Z",
     "start_time": "2024-09-02T20:22:24.544762Z"
    }
   },
   "source": [
    "context_builder_params = {\n",
    "    \"use_community_summary\": False,  # False means using full community reports. True means using community short summaries.\n",
    "    \"shuffle_data\": True,\n",
    "    \"include_community_rank\": True,\n",
    "    \"min_community_rank\": 0,\n",
    "    \"community_rank_name\": \"rank\",\n",
    "    \"include_community_weight\": True,\n",
    "    \"community_weight_name\": \"occurrence weight\",\n",
    "    \"normalize_community_weight\": True,\n",
    "    \"max_tokens\": 12_000,  # change this based on the token limit you have on your model (if you are using a model with 8k limit, a good setting could be 5000)\n",
    "    \"context_name\": \"Reports\",\n",
    "}\n",
    "\n",
    "map_llm_params = {\n",
    "    \"max_tokens\": 1000,\n",
    "    \"temperature\": 0.0,\n",
    "    \"response_format\": {\"type\": \"json_object\"},\n",
    "}\n",
    "\n",
    "reduce_llm_params = {\n",
    "    \"max_tokens\": 2000,  # change this based on the token limit you have on your model (if you are using a model with 8k limit, a good setting could be 1000-1500)\n",
    "    \"temperature\": 0.0,\n",
    "}"
   ],
   "outputs": [],
   "execution_count": 9
  },
  {
   "cell_type": "code",
   "metadata": {
    "ExecuteTime": {
     "end_time": "2024-09-02T20:22:26.438818Z",
     "start_time": "2024-09-02T20:22:26.434659Z"
    }
   },
   "source": [
    "search_engine = GlobalSearch(\n",
    "    llm=llm,\n",
    "    context_builder=context_builder,\n",
    "    token_encoder=token_encoder,\n",
    "    max_data_tokens=12_000,  # change this based on the token limit you have on your model (if you are using a model with 8k limit, a good setting could be 5000)\n",
    "    map_llm_params=map_llm_params,\n",
    "    reduce_llm_params=reduce_llm_params,\n",
    "    allow_general_knowledge=False,  # set this to True will add instruction to encourage the LLM to incorporate general knowledge in the response, which may increase hallucinations, but could be useful in some use cases.\n",
    "    json_mode=True,  # set this to False if your LLM model does not support JSON mode.\n",
    "    context_builder_params=context_builder_params,\n",
    "    concurrent_coroutines=32,\n",
    "    response_type=\"multiple paragraphs\",  # free form text describing the response type and format, can be anything, e.g. prioritized list, single paragraph, multiple paragraphs, multiple-page report\n",
    ")"
   ],
   "outputs": [],
   "execution_count": 10
  },
  {
   "cell_type": "code",
   "metadata": {
    "ExecuteTime": {
     "end_time": "2024-09-02T20:23:10.482495Z",
     "start_time": "2024-09-02T20:22:45.996677Z"
    }
   },
   "source": [
    "result = await search_engine.asearch(\n",
    "    \"What is the major lessos for Entrepreneurs?\"\n",
    ")\n",
    "\n",
    "print(result.response)"
   ],
   "outputs": [
    {
     "name": "stdout",
     "output_type": "stream",
     "text": [
      "## Major Lessons for Entrepreneurs\n",
      "\n",
      "Entrepreneurs can draw numerous critical lessons from the experiences of successful and failed startups. These lessons span various aspects of the entrepreneurial journey, from problem identification to securing funding and achieving market fit. Below are some of the most significant insights:\n",
      "\n",
      "### Importance of a Well-Defined Problem Statement\n",
      "\n",
      "A well-defined problem statement is foundational for identifying market gaps and guiding product development. Successful companies like Uber, Slack, and Robinhood have demonstrated the importance of clearly understanding and articulating the problem they aim to solve [Data: Reports (248)].\n",
      "\n",
      "### Securing Financial Backing\n",
      "\n",
      "Securing financial backing is crucial for startups to scale and innovate. Early-stage funding from angel investors and venture capitalists (VCs) is essential for developing products, iterating the Minimum Viable Product (MVP), and making critical hires. Vloggi's pursuit of seed funding exemplifies this necessity [Data: Reports (139, 182)].\n",
      "\n",
      "### Role of Founders\n",
      "\n",
      "Founders are the driving force behind startups, responsible for identifying market problems and creating solutions. They are involved in every aspect of the business, from developing the MVP to securing funding and making critical hires. This highlights the importance of a dedicated founder in a startup's success [Data: Reports (165)].\n",
      "\n",
      "### Customer-Centric Approach\n",
      "\n",
      "Understanding and addressing customer needs, feedback, and engagement are crucial for product validation, pricing strategies, and achieving market fit. The central role of the customer in driving the entrepreneurial ecosystem cannot be overstated [Data: Reports (220)].\n",
      "\n",
      "### Minimum Viable Product (MVP)\n",
      "\n",
      "Developing and validating an MVP is crucial for startup success. The MVP helps attract early customers and investors, and the feedback from early adopters is instrumental in refining the product to achieve market fit [Data: Reports (181, 216)].\n",
      "\n",
      "### Compelling Value Proposition\n",
      "\n",
      "A clear and unique value proposition helps startups stand out in the market, attract customers, and drive growth. This is evident in the success stories of companies like Facebook, Oculus, and WhatsApp [Data: Reports (212)].\n",
      "\n",
      "### Market Research and Validation\n",
      "\n",
      "Thorough market research and validation are essential for reducing the risk of failure by aligning offerings with actual customer needs and preferences. Entrepreneurs must confirm the existence of a market through customer research before creating supply [Data: Reports (105, 220)].\n",
      "\n",
      "### Effective Communication and Pitching\n",
      "\n",
      "Effective communication is crucial for securing funding. A well-crafted pitch deck and a compelling presentation can significantly influence a startup's ability to attract investors and secure necessary capital. Bluewire's success in using its pitch deck to secure pre-seed funding exemplifies this lesson [Data: Reports (192, 180)].\n",
      "\n",
      "### Robust Business Model and Market Fit\n",
      "\n",
      "The failure of Quibi underscores the importance of having a robust business model and market fit. Despite substantial funding and high-profile leadership, Quibi failed to gain an audience and shut down after six months. This highlights the critical need for thorough market research and a strong value proposition [Data: Reports (158)].\n",
      "\n",
      "### Networking and Warm Introductions\n",
      "\n",
      "Networking and warm introductions are essential for connecting startups with ideal investors. Effective networking lays the groundwork for warm introductions, which significantly increase the likelihood of positive receptions from investors [Data: Reports (234)].\n",
      "\n",
      "### Strategic Planning and Adaptability\n",
      "\n",
      "Strategic planning and the ability to pivot based on market feedback are crucial for startup success. Entrepreneurs must remain agile and responsive to changing market conditions, ensuring their strategies align with market needs and opportunities [Data: Reports (104, 183)].\n",
      "\n",
      "In summary, the major lessons for entrepreneurs revolve around understanding and addressing market needs, securing financial backing, developing a compelling value proposition, and maintaining a customer-centric approach. Effective communication, strategic planning, and adaptability are also critical for navigating the entrepreneurial landscape successfully.\n"
     ]
    }
   ],
   "execution_count": 11
  },
  {
   "cell_type": "code",
   "metadata": {
    "ExecuteTime": {
     "end_time": "2024-09-02T20:23:10.491230Z",
     "start_time": "2024-09-02T20:23:10.483502Z"
    }
   },
   "source": [
    "# inspect the data used to build the context for the LLM responses\n",
    "result.context_data[\"reports\"]"
   ],
   "outputs": [
    {
     "data": {
      "text/plain": [
       "      id                                              title  \\\n",
       "0    188  Market Dynamics and Key Influencers in Entrepr...   \n",
       "1    225            Revenue and Business Models in Startups   \n",
       "2     73  Customer Acquisition and Sentiment in Entrepre...   \n",
       "3    137  Economic Moats and Competitive Advantages in S...   \n",
       "4    238      Market Research and Entrepreneurial Ecosystem   \n",
       "..   ...                                                ...   \n",
       "225  236              Freewrite and Distraction-Free Typing   \n",
       "226   54  Partnerships and Multinational Companies in St...   \n",
       "227  240                      Upwork and Designer Ecosystem   \n",
       "228  109             Product Ideas and Elevator Innovations   \n",
       "229   69      Affiliate Revenue Model and Amazon Associates   \n",
       "\n",
       "     occurrence weight                                            content  \\\n",
       "0             0.506024  # Market Dynamics and Key Influencers in Entre...   \n",
       "1             0.445783  # Revenue and Business Models in Startups\\n\\nT...   \n",
       "2             0.253012  # Customer Acquisition and Sentiment in Entrep...   \n",
       "3             0.216867  # Economic Moats and Competitive Advantages in...   \n",
       "4             0.120482  # Market Research and Entrepreneurial Ecosyste...   \n",
       "..                 ...                                                ...   \n",
       "225           0.024096  # Freewrite and Distraction-Free Typing\\n\\nThe...   \n",
       "226           0.012048  # Partnerships and Multinational Companies in ...   \n",
       "227           0.012048  # Upwork and Designer Ecosystem\\n\\nThe communi...   \n",
       "228           0.012048  # Product Ideas and Elevator Innovations\\n\\nTh...   \n",
       "229           0.012048  # Affiliate Revenue Model and Amazon Associate...   \n",
       "\n",
       "     rank  \n",
       "0     9.0  \n",
       "1     9.0  \n",
       "2     9.0  \n",
       "3     9.0  \n",
       "4     9.0  \n",
       "..    ...  \n",
       "225   7.5  \n",
       "226   8.5  \n",
       "227   8.5  \n",
       "228   8.5  \n",
       "229   8.5  \n",
       "\n",
       "[230 rows x 5 columns]"
      ],
      "text/html": [
       "<div>\n",
       "<style scoped>\n",
       "    .dataframe tbody tr th:only-of-type {\n",
       "        vertical-align: middle;\n",
       "    }\n",
       "\n",
       "    .dataframe tbody tr th {\n",
       "        vertical-align: top;\n",
       "    }\n",
       "\n",
       "    .dataframe thead th {\n",
       "        text-align: right;\n",
       "    }\n",
       "</style>\n",
       "<table border=\"1\" class=\"dataframe\">\n",
       "  <thead>\n",
       "    <tr style=\"text-align: right;\">\n",
       "      <th></th>\n",
       "      <th>id</th>\n",
       "      <th>title</th>\n",
       "      <th>occurrence weight</th>\n",
       "      <th>content</th>\n",
       "      <th>rank</th>\n",
       "    </tr>\n",
       "  </thead>\n",
       "  <tbody>\n",
       "    <tr>\n",
       "      <th>0</th>\n",
       "      <td>188</td>\n",
       "      <td>Market Dynamics and Key Influencers in Entrepr...</td>\n",
       "      <td>0.506024</td>\n",
       "      <td># Market Dynamics and Key Influencers in Entre...</td>\n",
       "      <td>9.0</td>\n",
       "    </tr>\n",
       "    <tr>\n",
       "      <th>1</th>\n",
       "      <td>225</td>\n",
       "      <td>Revenue and Business Models in Startups</td>\n",
       "      <td>0.445783</td>\n",
       "      <td># Revenue and Business Models in Startups\\n\\nT...</td>\n",
       "      <td>9.0</td>\n",
       "    </tr>\n",
       "    <tr>\n",
       "      <th>2</th>\n",
       "      <td>73</td>\n",
       "      <td>Customer Acquisition and Sentiment in Entrepre...</td>\n",
       "      <td>0.253012</td>\n",
       "      <td># Customer Acquisition and Sentiment in Entrep...</td>\n",
       "      <td>9.0</td>\n",
       "    </tr>\n",
       "    <tr>\n",
       "      <th>3</th>\n",
       "      <td>137</td>\n",
       "      <td>Economic Moats and Competitive Advantages in S...</td>\n",
       "      <td>0.216867</td>\n",
       "      <td># Economic Moats and Competitive Advantages in...</td>\n",
       "      <td>9.0</td>\n",
       "    </tr>\n",
       "    <tr>\n",
       "      <th>4</th>\n",
       "      <td>238</td>\n",
       "      <td>Market Research and Entrepreneurial Ecosystem</td>\n",
       "      <td>0.120482</td>\n",
       "      <td># Market Research and Entrepreneurial Ecosyste...</td>\n",
       "      <td>9.0</td>\n",
       "    </tr>\n",
       "    <tr>\n",
       "      <th>...</th>\n",
       "      <td>...</td>\n",
       "      <td>...</td>\n",
       "      <td>...</td>\n",
       "      <td>...</td>\n",
       "      <td>...</td>\n",
       "    </tr>\n",
       "    <tr>\n",
       "      <th>225</th>\n",
       "      <td>236</td>\n",
       "      <td>Freewrite and Distraction-Free Typing</td>\n",
       "      <td>0.024096</td>\n",
       "      <td># Freewrite and Distraction-Free Typing\\n\\nThe...</td>\n",
       "      <td>7.5</td>\n",
       "    </tr>\n",
       "    <tr>\n",
       "      <th>226</th>\n",
       "      <td>54</td>\n",
       "      <td>Partnerships and Multinational Companies in St...</td>\n",
       "      <td>0.012048</td>\n",
       "      <td># Partnerships and Multinational Companies in ...</td>\n",
       "      <td>8.5</td>\n",
       "    </tr>\n",
       "    <tr>\n",
       "      <th>227</th>\n",
       "      <td>240</td>\n",
       "      <td>Upwork and Designer Ecosystem</td>\n",
       "      <td>0.012048</td>\n",
       "      <td># Upwork and Designer Ecosystem\\n\\nThe communi...</td>\n",
       "      <td>8.5</td>\n",
       "    </tr>\n",
       "    <tr>\n",
       "      <th>228</th>\n",
       "      <td>109</td>\n",
       "      <td>Product Ideas and Elevator Innovations</td>\n",
       "      <td>0.012048</td>\n",
       "      <td># Product Ideas and Elevator Innovations\\n\\nTh...</td>\n",
       "      <td>8.5</td>\n",
       "    </tr>\n",
       "    <tr>\n",
       "      <th>229</th>\n",
       "      <td>69</td>\n",
       "      <td>Affiliate Revenue Model and Amazon Associates</td>\n",
       "      <td>0.012048</td>\n",
       "      <td># Affiliate Revenue Model and Amazon Associate...</td>\n",
       "      <td>8.5</td>\n",
       "    </tr>\n",
       "  </tbody>\n",
       "</table>\n",
       "<p>230 rows × 5 columns</p>\n",
       "</div>"
      ]
     },
     "execution_count": 12,
     "metadata": {},
     "output_type": "execute_result"
    }
   ],
   "execution_count": 12
  },
  {
   "cell_type": "code",
   "metadata": {
    "ExecuteTime": {
     "end_time": "2024-09-02T20:23:10.495148Z",
     "start_time": "2024-09-02T20:23:10.492235Z"
    }
   },
   "source": [
    "# inspect number of LLM calls and tokens\n",
    "print(f\"LLM calls: {result.llm_calls}. LLM tokens: {result.prompt_tokens}\")"
   ],
   "outputs": [
    {
     "name": "stdout",
     "output_type": "stream",
     "text": [
      "LLM calls: 14. LLM tokens: 169852\n"
     ]
    }
   ],
   "execution_count": 13
  },
  {
   "metadata": {},
   "cell_type": "code",
   "outputs": [],
   "execution_count": null,
   "source": ""
  }
 ],
 "metadata": {
  "kernelspec": {
   "display_name": "Python 3",
   "language": "python",
   "name": "python3"
  },
  "language_info": {
   "codemirror_mode": {
    "name": "ipython",
    "version": 3
   },
   "file_extension": ".py",
   "mimetype": "text/x-python",
   "name": "python",
   "nbconvert_exporter": "python",
   "pygments_lexer": "ipython3",
   "version": "3.10.12"
  }
 },
 "nbformat": 4,
 "nbformat_minor": 2
}
